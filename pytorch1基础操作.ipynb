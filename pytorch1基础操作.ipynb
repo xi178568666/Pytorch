{
 "cells": [
  {
   "cell_type": "code",
   "execution_count": 2,
   "metadata": {},
   "outputs": [],
   "source": [
    "import torch\n",
    "import numpy as np\n",
    "import pandas as pd"
   ]
  },
  {
   "cell_type": "code",
   "execution_count": 3,
   "metadata": {},
   "outputs": [
    {
     "data": {
      "text/plain": [
       "tensor([8, 1, 5, 0, 2, 6, 3, 7, 4, 9])"
      ]
     },
     "execution_count": 3,
     "metadata": {},
     "output_type": "execute_result"
    }
   ],
   "source": [
    "torch.randperm(10)"
   ]
  },
  {
   "cell_type": "code",
   "execution_count": 4,
   "metadata": {},
   "outputs": [
    {
     "data": {
      "text/plain": [
       "tensor([10, 12, 14, 16, 18, 20, 22, 24, 26, 28, 30, 32, 34, 36, 38])"
      ]
     },
     "execution_count": 4,
     "metadata": {},
     "output_type": "execute_result"
    }
   ],
   "source": [
    "torch.arange(10, 40, 2)"
   ]
  },
  {
   "cell_type": "code",
   "execution_count": 5,
   "metadata": {},
   "outputs": [
    {
     "data": {
      "text/plain": [
       "tensor([0.0000, 0.5000, 1.0000, 1.5000, 2.0000, 2.5000, 3.0000, 3.5000, 4.0000,\n",
       "        4.5000, 5.0000, 5.5000, 6.0000, 6.5000, 7.0000, 7.5000, 8.0000, 8.5000,\n",
       "        9.0000, 9.5000])"
      ]
     },
     "execution_count": 5,
     "metadata": {},
     "output_type": "execute_result"
    }
   ],
   "source": [
    "torch.arange(0, 10, 0.5)"
   ]
  },
  {
   "cell_type": "code",
   "execution_count": 6,
   "metadata": {},
   "outputs": [
    {
     "data": {
      "text/plain": [
       "tensor([0, 1, 2, 3, 4, 5, 6, 7, 8, 9])"
      ]
     },
     "execution_count": 6,
     "metadata": {},
     "output_type": "execute_result"
    }
   ],
   "source": [
    "torch.arange(0, 10, 1)"
   ]
  },
  {
   "cell_type": "code",
   "execution_count": 8,
   "metadata": {},
   "outputs": [
    {
     "data": {
      "text/plain": [
       "tensor([[-0.2564,  0.3414,  1.2003, -0.9074,  0.4071],\n",
       "        [ 2.9279,  0.8123,  1.0742,  0.4350, -0.0795],\n",
       "        [ 1.0676,  1.0906,  1.5639,  0.6868, -1.3784],\n",
       "        [ 1.4104, -0.3007,  1.2990, -0.7705,  0.3513]])"
      ]
     },
     "execution_count": 8,
     "metadata": {},
     "output_type": "execute_result"
    }
   ],
   "source": [
    "d = torch.randn(4, 5)\n",
    "d"
   ]
  },
  {
   "cell_type": "code",
   "execution_count": 9,
   "metadata": {},
   "outputs": [
    {
     "data": {
      "text/plain": [
       "tensor(14)"
      ]
     },
     "execution_count": 9,
     "metadata": {},
     "output_type": "execute_result"
    }
   ],
   "source": [
    "torch.argmin(d)"
   ]
  },
  {
   "cell_type": "code",
   "execution_count": 11,
   "metadata": {},
   "outputs": [
    {
     "data": {
      "text/plain": [
       "tensor([3, 4, 4, 3])"
      ]
     },
     "execution_count": 11,
     "metadata": {},
     "output_type": "execute_result"
    }
   ],
   "source": [
    "torch.argmin(d, dim=1)"
   ]
  },
  {
   "cell_type": "code",
   "execution_count": 12,
   "metadata": {},
   "outputs": [
    {
     "data": {
      "text/plain": [
       "tensor([0, 3, 1, 0, 2])"
      ]
     },
     "execution_count": 12,
     "metadata": {},
     "output_type": "execute_result"
    }
   ],
   "source": [
    "torch.argmin(d, dim=0)"
   ]
  },
  {
   "cell_type": "code",
   "execution_count": 13,
   "metadata": {},
   "outputs": [
    {
     "data": {
      "text/plain": [
       "tensor(5)"
      ]
     },
     "execution_count": 13,
     "metadata": {},
     "output_type": "execute_result"
    }
   ],
   "source": [
    "torch.argmax(d)"
   ]
  },
  {
   "cell_type": "markdown",
   "metadata": {},
   "source": [
    "torch.argmax(tensor_d, dim=n)：\n",
    "获取tensor_d第n个dim的最大值\n",
    "torch.argmin(tensor_d, dim=n)：\n",
    "获取tensor_d第n个dim的最小值"
   ]
  },
  {
   "cell_type": "markdown",
   "metadata": {},
   "source": [
    "\n",
    "torch.zeros(4, 5): create a 2d tensor filled with values as 0\n",
    "torch.zeros(10):create a 1d tensor filled with values as 0"
   ]
  },
  {
   "cell_type": "code",
   "execution_count": 14,
   "metadata": {},
   "outputs": [
    {
     "data": {
      "text/plain": [
       "tensor([[0., 0., 0., 0., 0.],\n",
       "        [0., 0., 0., 0., 0.],\n",
       "        [0., 0., 0., 0., 0.],\n",
       "        [0., 0., 0., 0., 0.]])"
      ]
     },
     "execution_count": 14,
     "metadata": {},
     "output_type": "execute_result"
    }
   ],
   "source": [
    "torch.zeros(4, 5)"
   ]
  },
  {
   "cell_type": "code",
   "execution_count": 15,
   "metadata": {},
   "outputs": [
    {
     "data": {
      "text/plain": [
       "tensor([0., 0., 0., 0., 0., 0., 0., 0., 0., 0.])"
      ]
     },
     "execution_count": 15,
     "metadata": {},
     "output_type": "execute_result"
    }
   ],
   "source": [
    "torch.zeros(10)"
   ]
  },
  {
   "cell_type": "markdown",
   "metadata": {},
   "source": [
    "\n",
    "torch.cat((tensor_x, tensor_x)):concatenate two tensors, default over column\n",
    "torch.cat((tensor_x, tensor_x), 0)可以理解为两个矩阵上下排列\n",
    "torch.cat((tensor_x, tensor_x), 1)可以理解为两个矩阵左右并排"
   ]
  },
  {
   "cell_type": "code",
   "execution_count": 18,
   "metadata": {},
   "outputs": [
    {
     "data": {
      "text/plain": [
       "tensor([[ 2.3398,  0.3509, -0.6197, -0.1755,  0.3048],\n",
       "        [-0.6877,  1.4308,  1.7688, -0.1704,  0.6963],\n",
       "        [ 0.8112,  1.4719, -1.2023, -0.6768,  0.2971],\n",
       "        [ 0.1268,  0.7133,  0.8222, -1.2310, -0.4410]])"
      ]
     },
     "execution_count": 18,
     "metadata": {},
     "output_type": "execute_result"
    }
   ],
   "source": [
    "x = torch.randn(4, 5)\n",
    "x"
   ]
  },
  {
   "cell_type": "code",
   "execution_count": 19,
   "metadata": {},
   "outputs": [
    {
     "data": {
      "text/plain": [
       "tensor([[ 2.3398,  0.3509, -0.6197, -0.1755,  0.3048],\n",
       "        [-0.6877,  1.4308,  1.7688, -0.1704,  0.6963],\n",
       "        [ 0.8112,  1.4719, -1.2023, -0.6768,  0.2971],\n",
       "        [ 0.1268,  0.7133,  0.8222, -1.2310, -0.4410],\n",
       "        [ 2.3398,  0.3509, -0.6197, -0.1755,  0.3048],\n",
       "        [-0.6877,  1.4308,  1.7688, -0.1704,  0.6963],\n",
       "        [ 0.8112,  1.4719, -1.2023, -0.6768,  0.2971],\n",
       "        [ 0.1268,  0.7133,  0.8222, -1.2310, -0.4410]])"
      ]
     },
     "execution_count": 19,
     "metadata": {},
     "output_type": "execute_result"
    }
   ],
   "source": [
    "torch.cat((x, x))"
   ]
  },
  {
   "cell_type": "code",
   "execution_count": 20,
   "metadata": {},
   "outputs": [
    {
     "data": {
      "text/plain": [
       "tensor([[ 2.3398,  0.3509, -0.6197, -0.1755,  0.3048],\n",
       "        [-0.6877,  1.4308,  1.7688, -0.1704,  0.6963],\n",
       "        [ 0.8112,  1.4719, -1.2023, -0.6768,  0.2971],\n",
       "        [ 0.1268,  0.7133,  0.8222, -1.2310, -0.4410],\n",
       "        [ 2.3398,  0.3509, -0.6197, -0.1755,  0.3048],\n",
       "        [-0.6877,  1.4308,  1.7688, -0.1704,  0.6963],\n",
       "        [ 0.8112,  1.4719, -1.2023, -0.6768,  0.2971],\n",
       "        [ 0.1268,  0.7133,  0.8222, -1.2310, -0.4410]])"
      ]
     },
     "execution_count": 20,
     "metadata": {},
     "output_type": "execute_result"
    }
   ],
   "source": [
    "torch.cat((x, x), 0)"
   ]
  },
  {
   "cell_type": "code",
   "execution_count": 21,
   "metadata": {},
   "outputs": [
    {
     "data": {
      "text/plain": [
       "tensor([[ 2.3398,  0.3509, -0.6197, -0.1755,  0.3048,  2.3398,  0.3509, -0.6197,\n",
       "         -0.1755,  0.3048],\n",
       "        [-0.6877,  1.4308,  1.7688, -0.1704,  0.6963, -0.6877,  1.4308,  1.7688,\n",
       "         -0.1704,  0.6963],\n",
       "        [ 0.8112,  1.4719, -1.2023, -0.6768,  0.2971,  0.8112,  1.4719, -1.2023,\n",
       "         -0.6768,  0.2971],\n",
       "        [ 0.1268,  0.7133,  0.8222, -1.2310, -0.4410,  0.1268,  0.7133,  0.8222,\n",
       "         -1.2310, -0.4410]])"
      ]
     },
     "execution_count": 21,
     "metadata": {},
     "output_type": "execute_result"
    }
   ],
   "source": [
    "torch.cat((x, x), 1)"
   ]
  },
  {
   "cell_type": "markdown",
   "metadata": {},
   "source": [
    "torch.chunk(tensor_a, n, dim):将tensor a在维度dim上分为n个chunk"
   ]
  },
  {
   "cell_type": "code",
   "execution_count": 22,
   "metadata": {},
   "outputs": [
    {
     "data": {
      "text/plain": [
       "tensor([[ 0.9902, -1.2278,  1.0631,  0.1930],\n",
       "        [ 0.7021,  0.7447,  1.6477,  0.1638],\n",
       "        [-0.9053,  0.0170, -0.5844,  0.5770],\n",
       "        [ 0.6396,  1.1039,  0.0403,  0.1938]])"
      ]
     },
     "execution_count": 22,
     "metadata": {},
     "output_type": "execute_result"
    }
   ],
   "source": [
    "a = torch.randn(4, 4)\n",
    "a"
   ]
  },
  {
   "cell_type": "code",
   "execution_count": 23,
   "metadata": {},
   "outputs": [
    {
     "data": {
      "text/plain": [
       "(tensor([[ 0.9902, -1.2278,  1.0631,  0.1930],\n",
       "         [ 0.7021,  0.7447,  1.6477,  0.1638]]),\n",
       " tensor([[-0.9053,  0.0170, -0.5844,  0.5770],\n",
       "         [ 0.6396,  1.1039,  0.0403,  0.1938]]))"
      ]
     },
     "execution_count": 23,
     "metadata": {},
     "output_type": "execute_result"
    }
   ],
   "source": [
    "torch.chunk(a, 2)"
   ]
  },
  {
   "cell_type": "code",
   "execution_count": 24,
   "metadata": {},
   "outputs": [
    {
     "data": {
      "text/plain": [
       "(tensor([[ 0.9902, -1.2278],\n",
       "         [ 0.7021,  0.7447],\n",
       "         [-0.9053,  0.0170],\n",
       "         [ 0.6396,  1.1039]]),\n",
       " tensor([[ 1.0631,  0.1930],\n",
       "         [ 1.6477,  0.1638],\n",
       "         [-0.5844,  0.5770],\n",
       "         [ 0.0403,  0.1938]]))"
      ]
     },
     "execution_count": 24,
     "metadata": {},
     "output_type": "execute_result"
    }
   ],
   "source": [
    "torch.chunk(a, 2, 1)"
   ]
  },
  {
   "cell_type": "markdown",
   "metadata": {},
   "source": [
    "torch.index_select(tensor_x, dim, indices):从dim维选择tensor a 的indices chunk"
   ]
  },
  {
   "cell_type": "code",
   "execution_count": 25,
   "metadata": {},
   "outputs": [
    {
     "data": {
      "text/plain": [
       "tensor([0, 2])"
      ]
     },
     "execution_count": 25,
     "metadata": {},
     "output_type": "execute_result"
    }
   ],
   "source": [
    "indices = torch.LongTensor([0, 2])\n",
    "indices"
   ]
  },
  {
   "cell_type": "code",
   "execution_count": 26,
   "metadata": {},
   "outputs": [
    {
     "data": {
      "text/plain": [
       "tensor([[-0.9066, -0.0897, -1.4948,  1.5836],\n",
       "        [ 1.8722,  0.4151,  0.2181,  0.3334],\n",
       "        [-0.0035, -0.5193, -0.5201, -0.6211],\n",
       "        [-0.2464, -0.9893, -1.3760, -0.8599]])"
      ]
     },
     "execution_count": 26,
     "metadata": {},
     "output_type": "execute_result"
    }
   ],
   "source": [
    "a = torch.randn(4, 4)\n",
    "a"
   ]
  },
  {
   "cell_type": "code",
   "execution_count": 27,
   "metadata": {},
   "outputs": [
    {
     "data": {
      "text/plain": [
       "tensor([[-0.9066, -0.0897, -1.4948,  1.5836],\n",
       "        [-0.0035, -0.5193, -0.5201, -0.6211]])"
      ]
     },
     "execution_count": 27,
     "metadata": {},
     "output_type": "execute_result"
    }
   ],
   "source": [
    "torch.index_select(a, 0, indices)"
   ]
  },
  {
   "cell_type": "code",
   "execution_count": 28,
   "metadata": {},
   "outputs": [
    {
     "data": {
      "text/plain": [
       "tensor([[-0.9066, -1.4948],\n",
       "        [ 1.8722,  0.2181],\n",
       "        [-0.0035, -0.5201],\n",
       "        [-0.2464, -1.3760]])"
      ]
     },
     "execution_count": 28,
     "metadata": {},
     "output_type": "execute_result"
    }
   ],
   "source": [
    "torch.index_select(a, 1, indices)"
   ]
  },
  {
   "cell_type": "code",
   "execution_count": null,
   "metadata": {},
   "outputs": [],
   "source": [
    "torch.nonzero(tensor_a):找到tensor a中非零元的位置"
   ]
  },
  {
   "cell_type": "code",
   "execution_count": 29,
   "metadata": {},
   "outputs": [
    {
     "name": "stderr",
     "output_type": "stream",
     "text": [
      "..\\torch\\csrc\\utils\\python_arg_parser.cpp:756: UserWarning: This overload of nonzero is deprecated:\n",
      "\tnonzero(Tensor input, *, Tensor out)\n",
      "Consider using one of the following signatures instead:\n",
      "\tnonzero(Tensor input, *, bool as_tuple)\n"
     ]
    },
    {
     "data": {
      "text/plain": [
       "tensor([[0],\n",
       "        [2]])"
      ]
     },
     "execution_count": 29,
     "metadata": {},
     "output_type": "execute_result"
    }
   ],
   "source": [
    "torch.nonzero(torch.tensor([10, 00, 23, 0, 0.0]))"
   ]
  },
  {
   "cell_type": "code",
   "execution_count": null,
   "metadata": {},
   "outputs": [],
   "source": [
    "torch.split(tensor_a, n):将tensor a 分割为多个tensor，每个tensor分割包含n个元素"
   ]
  },
  {
   "cell_type": "code",
   "execution_count": 30,
   "metadata": {},
   "outputs": [
    {
     "data": {
      "text/plain": [
       "(tensor([12, 21]), tensor([34, 32]), tensor([45, 54]), tensor([56, 65]))"
      ]
     },
     "execution_count": 30,
     "metadata": {},
     "output_type": "execute_result"
    }
   ],
   "source": [
    "torch.split(torch.tensor([12, 21, 34, 32, 45, 54, 56, 65]), 2)"
   ]
  },
  {
   "cell_type": "code",
   "execution_count": 31,
   "metadata": {},
   "outputs": [
    {
     "data": {
      "text/plain": [
       "(tensor([12, 21, 34]), tensor([32, 45, 54]), tensor([56, 65]))"
      ]
     },
     "execution_count": 31,
     "metadata": {},
     "output_type": "execute_result"
    }
   ],
   "source": [
    "torch.split(torch.tensor([12, 21, 34, 32, 45, 54, 56, 65]), 3)"
   ]
  },
  {
   "cell_type": "markdown",
   "metadata": {},
   "source": [
    "tensor_x.t()\n",
    "tensor_x.transpose(1, 0):将tensor x转置"
   ]
  },
  {
   "cell_type": "code",
   "execution_count": 32,
   "metadata": {},
   "outputs": [
    {
     "data": {
      "text/plain": [
       "tensor([[ 2.3398,  0.3509, -0.6197, -0.1755,  0.3048],\n",
       "        [-0.6877,  1.4308,  1.7688, -0.1704,  0.6963],\n",
       "        [ 0.8112,  1.4719, -1.2023, -0.6768,  0.2971],\n",
       "        [ 0.1268,  0.7133,  0.8222, -1.2310, -0.4410]])"
      ]
     },
     "execution_count": 32,
     "metadata": {},
     "output_type": "execute_result"
    }
   ],
   "source": [
    "x"
   ]
  },
  {
   "cell_type": "code",
   "execution_count": 33,
   "metadata": {},
   "outputs": [
    {
     "data": {
      "text/plain": [
       "tensor([[ 2.3398, -0.6877,  0.8112,  0.1268],\n",
       "        [ 0.3509,  1.4308,  1.4719,  0.7133],\n",
       "        [-0.6197,  1.7688, -1.2023,  0.8222],\n",
       "        [-0.1755, -0.1704, -0.6768, -1.2310],\n",
       "        [ 0.3048,  0.6963,  0.2971, -0.4410]])"
      ]
     },
     "execution_count": 33,
     "metadata": {},
     "output_type": "execute_result"
    }
   ],
   "source": [
    "x.t()"
   ]
  },
  {
   "cell_type": "code",
   "execution_count": 34,
   "metadata": {},
   "outputs": [
    {
     "data": {
      "text/plain": [
       "tensor([[ 2.3398, -0.6877,  0.8112,  0.1268],\n",
       "        [ 0.3509,  1.4308,  1.4719,  0.7133],\n",
       "        [-0.6197,  1.7688, -1.2023,  0.8222],\n",
       "        [-0.1755, -0.1704, -0.6768, -1.2310],\n",
       "        [ 0.3048,  0.6963,  0.2971, -0.4410]])"
      ]
     },
     "execution_count": 34,
     "metadata": {},
     "output_type": "execute_result"
    }
   ],
   "source": [
    "x.transpose(1, 0)"
   ]
  },
  {
   "cell_type": "markdown",
   "metadata": {},
   "source": [
    "torch.unbind(tensor_x, dim):将tensor按照维度dim分解，将高维分解为低维"
   ]
  },
  {
   "cell_type": "code",
   "execution_count": 35,
   "metadata": {},
   "outputs": [
    {
     "data": {
      "text/plain": [
       "tensor([[ 2.3398,  0.3509, -0.6197, -0.1755,  0.3048],\n",
       "        [-0.6877,  1.4308,  1.7688, -0.1704,  0.6963],\n",
       "        [ 0.8112,  1.4719, -1.2023, -0.6768,  0.2971],\n",
       "        [ 0.1268,  0.7133,  0.8222, -1.2310, -0.4410]])"
      ]
     },
     "execution_count": 35,
     "metadata": {},
     "output_type": "execute_result"
    }
   ],
   "source": [
    "x"
   ]
  },
  {
   "cell_type": "code",
   "execution_count": 36,
   "metadata": {},
   "outputs": [
    {
     "data": {
      "text/plain": [
       "(tensor([ 2.3398, -0.6877,  0.8112,  0.1268]),\n",
       " tensor([0.3509, 1.4308, 1.4719, 0.7133]),\n",
       " tensor([-0.6197,  1.7688, -1.2023,  0.8222]),\n",
       " tensor([-0.1755, -0.1704, -0.6768, -1.2310]),\n",
       " tensor([ 0.3048,  0.6963,  0.2971, -0.4410]))"
      ]
     },
     "execution_count": 36,
     "metadata": {},
     "output_type": "execute_result"
    }
   ],
   "source": [
    "torch.unbind(x, 1)"
   ]
  },
  {
   "cell_type": "code",
   "execution_count": 37,
   "metadata": {},
   "outputs": [
    {
     "data": {
      "text/plain": [
       "(tensor([ 2.3398,  0.3509, -0.6197, -0.1755,  0.3048]),\n",
       " tensor([-0.6877,  1.4308,  1.7688, -0.1704,  0.6963]),\n",
       " tensor([ 0.8112,  1.4719, -1.2023, -0.6768,  0.2971]),\n",
       " tensor([ 0.1268,  0.7133,  0.8222, -1.2310, -0.4410]))"
      ]
     },
     "execution_count": 37,
     "metadata": {},
     "output_type": "execute_result"
    }
   ],
   "source": [
    "torch.unbind(x, 0)"
   ]
  },
  {
   "cell_type": "code",
   "execution_count": 38,
   "metadata": {},
   "outputs": [
    {
     "data": {
      "text/plain": [
       "(tensor(2.3398),\n",
       " tensor(0.3509),\n",
       " tensor(-0.6197),\n",
       " tensor(-0.1755),\n",
       " tensor(0.3048))"
      ]
     },
     "execution_count": 38,
     "metadata": {},
     "output_type": "execute_result"
    }
   ],
   "source": [
    "torch.unbind(x[0], 0)"
   ]
  },
  {
   "cell_type": "code",
   "execution_count": 39,
   "metadata": {},
   "outputs": [
    {
     "ename": "IndexError",
     "evalue": "Dimension out of range (expected to be in range of [-1, 0], but got 1)",
     "output_type": "error",
     "traceback": [
      "\u001b[1;31m---------------------------------------------------------------------------\u001b[0m",
      "\u001b[1;31mIndexError\u001b[0m                                Traceback (most recent call last)",
      "\u001b[1;32m<ipython-input-39-f48f8fe27ff4>\u001b[0m in \u001b[0;36m<module>\u001b[1;34m\u001b[0m\n\u001b[1;32m----> 1\u001b[1;33m \u001b[0mtorch\u001b[0m\u001b[1;33m.\u001b[0m\u001b[0munbind\u001b[0m\u001b[1;33m(\u001b[0m\u001b[0mx\u001b[0m\u001b[1;33m[\u001b[0m\u001b[1;36m0\u001b[0m\u001b[1;33m]\u001b[0m\u001b[1;33m,\u001b[0m \u001b[1;36m1\u001b[0m\u001b[1;33m)\u001b[0m\u001b[1;33m\u001b[0m\u001b[1;33m\u001b[0m\u001b[0m\n\u001b[0m",
      "\u001b[1;31mIndexError\u001b[0m: Dimension out of range (expected to be in range of [-1, 0], but got 1)"
     ]
    }
   ],
   "source": [
    "torch.unbind(x[0], 1)  # 出错是因为x[0]只有一个维度，标记为0\n",
    "# 另外，tensor 1d 和 numpy 相似是一个行向量"
   ]
  },
  {
   "cell_type": "markdown",
   "metadata": {},
   "source": [
    "torch.add(tensor_x, tensor_y):将两个tensor按照元素相加"
   ]
  },
  {
   "cell_type": "code",
   "execution_count": 40,
   "metadata": {},
   "outputs": [
    {
     "data": {
      "text/plain": [
       "tensor([[ 2.3398,  0.3509, -0.6197, -0.1755,  0.3048],\n",
       "        [-0.6877,  1.4308,  1.7688, -0.1704,  0.6963],\n",
       "        [ 0.8112,  1.4719, -1.2023, -0.6768,  0.2971],\n",
       "        [ 0.1268,  0.7133,  0.8222, -1.2310, -0.4410]])"
      ]
     },
     "execution_count": 40,
     "metadata": {},
     "output_type": "execute_result"
    }
   ],
   "source": [
    "x"
   ]
  },
  {
   "cell_type": "code",
   "execution_count": 41,
   "metadata": {},
   "outputs": [
    {
     "data": {
      "text/plain": [
       "tensor([[12.3398, 10.3509,  9.3803,  9.8245, 10.3048],\n",
       "        [ 9.3123, 11.4308, 11.7688,  9.8296, 10.6963],\n",
       "        [10.8112, 11.4719,  8.7977,  9.3232, 10.2971],\n",
       "        [10.1268, 10.7133, 10.8222,  8.7690,  9.5590]])"
      ]
     },
     "execution_count": 41,
     "metadata": {},
     "output_type": "execute_result"
    }
   ],
   "source": [
    "torch.add(x, 10)"
   ]
  },
  {
   "cell_type": "code",
   "execution_count": 42,
   "metadata": {},
   "outputs": [
    {
     "data": {
      "text/plain": [
       "tensor([[ 4.6797,  0.7017, -1.2394, -0.3510,  0.6096],\n",
       "        [-1.3754,  2.8615,  3.5376, -0.3408,  1.3927],\n",
       "        [ 1.6224,  2.9439, -2.4047, -1.3536,  0.5941],\n",
       "        [ 0.2537,  1.4267,  1.6445, -2.4619, -0.8820]])"
      ]
     },
     "execution_count": 42,
     "metadata": {},
     "output_type": "execute_result"
    }
   ],
   "source": [
    "torch.add(x, x)"
   ]
  },
  {
   "cell_type": "markdown",
   "metadata": {},
   "source": [
    "tensor.mul(x, y): 将x和y相乘，如果一个是标量一个是tensor那么类似标量乘以矩阵，如果两个都是tensor，那么是point-wise"
   ]
  },
  {
   "cell_type": "code",
   "execution_count": 43,
   "metadata": {},
   "outputs": [
    {
     "data": {
      "text/plain": [
       "tensor([[ 4.6797,  0.7017, -1.2394, -0.3510,  0.6096],\n",
       "        [-1.3754,  2.8615,  3.5376, -0.3408,  1.3927],\n",
       "        [ 1.6224,  2.9439, -2.4047, -1.3536,  0.5941],\n",
       "        [ 0.2537,  1.4267,  1.6445, -2.4619, -0.8820]])"
      ]
     },
     "execution_count": 43,
     "metadata": {},
     "output_type": "execute_result"
    }
   ],
   "source": [
    "torch.mul(x, 2)"
   ]
  },
  {
   "cell_type": "code",
   "execution_count": 44,
   "metadata": {
    "scrolled": true
   },
   "outputs": [
    {
     "data": {
      "text/plain": [
       "tensor([[5.4748, 0.1231, 0.3841, 0.0308, 0.0929],\n",
       "        [0.4729, 2.0471, 3.1287, 0.0290, 0.4849],\n",
       "        [0.6581, 2.1666, 1.4456, 0.4580, 0.0882],\n",
       "        [0.0161, 0.5088, 0.6761, 1.5153, 0.1945]])"
      ]
     },
     "execution_count": 44,
     "metadata": {},
     "output_type": "execute_result"
    }
   ],
   "source": [
    "torch.mul(x, x)"
   ]
  },
  {
   "cell_type": "markdown",
   "metadata": {},
   "source": [
    "torch.ceil(x):将x中的每个元素都向上取整\n",
    "torch.floor(x):向下取整"
   ]
  },
  {
   "cell_type": "code",
   "execution_count": 46,
   "metadata": {},
   "outputs": [
    {
     "data": {
      "text/plain": [
       "tensor([[ 1., -0., -0., -0.,  1.],\n",
       "        [ 1., -0., -0.,  1., -0.],\n",
       "        [ 1., -1.,  2., -0.,  2.],\n",
       "        [-1., -1., -1., -0.,  1.],\n",
       "        [ 1.,  1.,  2., -0.,  1.]])"
      ]
     },
     "execution_count": 46,
     "metadata": {},
     "output_type": "execute_result"
    }
   ],
   "source": [
    "torch.manual_seed(123)\n",
    "torch.ceil(torch.randn(5, 5))"
   ]
  },
  {
   "cell_type": "code",
   "execution_count": 47,
   "metadata": {},
   "outputs": [
    {
     "data": {
      "text/plain": [
       "tensor([[-1.5256, -0.7502, -0.6540, -1.6095, -0.1002],\n",
       "        [-0.6092, -0.9798, -1.6091, -0.7121,  1.1712],\n",
       "        [ 1.7674, -0.0954,  0.1394, -1.5785, -0.3206],\n",
       "        [-0.2993,  1.8793,  0.3357,  0.2753,  1.7163],\n",
       "        [-0.0561,  0.9107, -1.3924,  2.6891, -0.1110]])"
      ]
     },
     "execution_count": 47,
     "metadata": {},
     "output_type": "execute_result"
    }
   ],
   "source": [
    "torch.manual_seed(1)\n",
    "x = torch.randn(5, 5)\n",
    "x"
   ]
  },
  {
   "cell_type": "code",
   "execution_count": 49,
   "metadata": {},
   "outputs": [
    {
     "data": {
      "text/plain": [
       "tensor([[-1., -0., -0., -1., -0.],\n",
       "        [-0., -0., -1., -0.,  2.],\n",
       "        [ 2., -0.,  1., -1., -0.],\n",
       "        [-0.,  2.,  1.,  1.,  2.],\n",
       "        [-0.,  1., -1.,  3., -0.]])"
      ]
     },
     "execution_count": 49,
     "metadata": {},
     "output_type": "execute_result"
    }
   ],
   "source": [
    "torch.ceil(x)"
   ]
  },
  {
   "cell_type": "code",
   "execution_count": 50,
   "metadata": {},
   "outputs": [
    {
     "data": {
      "text/plain": [
       "tensor([[-2., -1., -1., -2., -1.],\n",
       "        [-1., -1., -2., -1.,  1.],\n",
       "        [ 1., -1.,  0., -2., -1.],\n",
       "        [-1.,  1.,  0.,  0.,  1.],\n",
       "        [-1.,  0., -2.,  2., -1.]])"
      ]
     },
     "execution_count": 50,
     "metadata": {},
     "output_type": "execute_result"
    }
   ],
   "source": [
    "torch.floor(x)"
   ]
  },
  {
   "cell_type": "markdown",
   "metadata": {},
   "source": [
    "torch.exp(x):对每个x中的元素做取指数运算"
   ]
  },
  {
   "cell_type": "code",
   "execution_count": 51,
   "metadata": {},
   "outputs": [
    {
     "data": {
      "text/plain": [
       "tensor([[-0.1103,  0.2913],\n",
       "        [ 0.5848,  0.2149]])"
      ]
     },
     "execution_count": 51,
     "metadata": {},
     "output_type": "execute_result"
    }
   ],
   "source": [
    "x = torch.randn(2, 2)\n",
    "x"
   ]
  },
  {
   "cell_type": "code",
   "execution_count": 52,
   "metadata": {},
   "outputs": [
    {
     "data": {
      "text/plain": [
       "tensor([[0.8956, 1.3382],\n",
       "        [1.7946, 1.2398]])"
      ]
     },
     "execution_count": 52,
     "metadata": {},
     "output_type": "execute_result"
    }
   ],
   "source": [
    "torch.exp(x)"
   ]
  },
  {
   "cell_type": "code",
   "execution_count": 53,
   "metadata": {},
   "outputs": [
    {
     "data": {
      "text/plain": [
       "tensor([[0.8956, 1.3382],\n",
       "        [1.7946, 1.2398]])"
      ]
     },
     "execution_count": 53,
     "metadata": {},
     "output_type": "execute_result"
    }
   ],
   "source": [
    "np.exp(x)"
   ]
  },
  {
   "cell_type": "markdown",
   "metadata": {},
   "source": [
    "torch.frac(x):获取x中每个元素的小数部分"
   ]
  },
  {
   "cell_type": "code",
   "execution_count": 55,
   "metadata": {},
   "outputs": [
    {
     "data": {
      "text/plain": [
       "tensor([[ 9.8897, 10.2913],\n",
       "        [10.5848, 10.2149]])"
      ]
     },
     "execution_count": 55,
     "metadata": {},
     "output_type": "execute_result"
    }
   ],
   "source": [
    "x = torch.add(x, 10)\n",
    "x"
   ]
  },
  {
   "cell_type": "code",
   "execution_count": 56,
   "metadata": {},
   "outputs": [
    {
     "data": {
      "text/plain": [
       "tensor([[0.8897, 0.2913],\n",
       "        [0.5848, 0.2149]])"
      ]
     },
     "execution_count": 56,
     "metadata": {},
     "output_type": "execute_result"
    }
   ],
   "source": [
    "torch.frac(x)"
   ]
  },
  {
   "cell_type": "markdown",
   "metadata": {},
   "source": [
    "torch.log(x):对x的每个元素取对数，如果这个元素小于等于0，那么得到的值为nan\n",
    "torch.pow(x, n):对x的每个元素计算n次方\n",
    "torch.sqrt(x):计算每个元素的平方根\n",
    "torch.sigmoid(x):对每个元素应用sigmoid函数"
   ]
  },
  {
   "cell_type": "code",
   "execution_count": 57,
   "metadata": {},
   "outputs": [
    {
     "data": {
      "text/plain": [
       "tensor([[-0.4090, -0.1663],\n",
       "        [ 0.6696,  0.1177]])"
      ]
     },
     "execution_count": 57,
     "metadata": {},
     "output_type": "execute_result"
    }
   ],
   "source": [
    "x = torch.randn(2, 2)\n",
    "x"
   ]
  },
  {
   "cell_type": "code",
   "execution_count": 58,
   "metadata": {},
   "outputs": [
    {
     "data": {
      "text/plain": [
       "tensor([[    nan,     nan],\n",
       "        [-0.4011, -2.1397]])"
      ]
     },
     "execution_count": 58,
     "metadata": {},
     "output_type": "execute_result"
    }
   ],
   "source": [
    "torch.log(x)"
   ]
  },
  {
   "cell_type": "code",
   "execution_count": 59,
   "metadata": {},
   "outputs": [
    {
     "data": {
      "text/plain": [
       "tensor([[0.1673, 0.0277],\n",
       "        [0.4484, 0.0139]])"
      ]
     },
     "execution_count": 59,
     "metadata": {},
     "output_type": "execute_result"
    }
   ],
   "source": [
    "torch.pow(x, 2)"
   ]
  },
  {
   "cell_type": "markdown",
   "metadata": {},
   "source": [
    "总结：这部分学习pytorch中tensor的创建、连结、分割、去除维度、选择、以及常用的+， -， *， /，log， exp 等基本函数操作"
   ]
  }
 ],
 "metadata": {
  "kernelspec": {
   "display_name": "Python 3",
   "language": "python",
   "name": "python3"
  },
  "language_info": {
   "codemirror_mode": {
    "name": "ipython",
    "version": 3
   },
   "file_extension": ".py",
   "mimetype": "text/x-python",
   "name": "python",
   "nbconvert_exporter": "python",
   "pygments_lexer": "ipython3",
   "version": "3.7.7"
  }
 },
 "nbformat": 4,
 "nbformat_minor": 4
}
