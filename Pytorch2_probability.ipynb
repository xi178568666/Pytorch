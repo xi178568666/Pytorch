{
 "cells": [
  {
   "cell_type": "markdown",
   "metadata": {},
   "source": [
    "这一部分主要学习一些pytorch中常用的关于随机变量的操作。\n",
    "torch.distributions module 包含了一些概率分布和函数。概率分布有二项分布、伯努利分布、beta分布、指数分布、正态分布、泊松分布、多伯努利分布（分类分布）。"
   ]
  },
  {
   "cell_type": "code",
   "execution_count": 1,
   "metadata": {},
   "outputs": [],
   "source": [
    "import torch"
   ]
  },
  {
   "cell_type": "code",
   "execution_count": 2,
   "metadata": {},
   "outputs": [
    {
     "data": {
      "text/plain": [
       "<torch._C.Generator at 0x29747eb79f0>"
      ]
     },
     "execution_count": 2,
     "metadata": {},
     "output_type": "execute_result"
    }
   ],
   "source": [
    "torch.manual_seed(123)"
   ]
  },
  {
   "cell_type": "code",
   "execution_count": 3,
   "metadata": {},
   "outputs": [
    {
     "data": {
      "text/plain": [
       "tensor([[ 0.3374, -0.1778, -0.3035, -0.5880],\n",
       "        [ 0.3486,  0.6603, -0.2196, -0.3792],\n",
       "        [ 0.7671, -1.1925,  0.6984, -1.4097],\n",
       "        [ 0.1794,  1.8951,  0.4954,  0.2692]])"
      ]
     },
     "execution_count": 3,
     "metadata": {},
     "output_type": "execute_result"
    }
   ],
   "source": [
    "torch.randn(4, 4)"
   ]
  },
  {
   "cell_type": "markdown",
   "metadata": {},
   "source": [
    "torch.Tensor(4, 4).uniform_(0, 1):生成4 * 4 的[0, 1]之间的均匀分布"
   ]
  },
  {
   "cell_type": "code",
   "execution_count": 4,
   "metadata": {},
   "outputs": [
    {
     "data": {
      "text/plain": [
       "tensor([[0.1186, 0.8274, 0.3821, 0.6605],\n",
       "        [0.8536, 0.5932, 0.6367, 0.9826],\n",
       "        [0.2745, 0.6584, 0.2775, 0.8573],\n",
       "        [0.8993, 0.0390, 0.9268, 0.7388]])"
      ]
     },
     "execution_count": 4,
     "metadata": {},
     "output_type": "execute_result"
    }
   ],
   "source": [
    "torch.Tensor(4, 4).uniform_(0, 1)"
   ]
  },
  {
   "cell_type": "markdown",
   "metadata": {},
   "source": [
    "torch.bernoulli(tensor_x):根据tensor x的概率生成x维度的Bernoulli分布数"
   ]
  },
  {
   "cell_type": "code",
   "execution_count": 6,
   "metadata": {},
   "outputs": [
    {
     "data": {
      "text/plain": [
       "tensor([[0., 1., 0., 0.],\n",
       "        [0., 1., 1., 0.],\n",
       "        [0., 0., 1., 0.],\n",
       "        [1., 0., 1., 1.]])"
      ]
     },
     "execution_count": 6,
     "metadata": {},
     "output_type": "execute_result"
    }
   ],
   "source": [
    "torch.bernoulli(torch.Tensor(4, 4).uniform_(0, 1))"
   ]
  },
  {
   "cell_type": "code",
   "execution_count": 15,
   "metadata": {},
   "outputs": [
    {
     "data": {
      "text/plain": [
       "tensor([1., 1., 1., 1.])"
      ]
     },
     "execution_count": 15,
     "metadata": {},
     "output_type": "execute_result"
    }
   ],
   "source": [
    "torch.bernoulli(torch.tensor([0.9, 0.9, 0.9, 0.9]))"
   ]
  },
  {
   "cell_type": "markdown",
   "metadata": {},
   "source": [
    "torch.multinomial(tensor_x, n)：从tensor x中选择n个出来"
   ]
  },
  {
   "cell_type": "code",
   "execution_count": 16,
   "metadata": {},
   "outputs": [
    {
     "data": {
      "text/plain": [
       "tensor([[3, 2, 1],\n",
       "        [2, 0, 1],\n",
       "        [0, 1, 3],\n",
       "        [2, 0, 1]])"
      ]
     },
     "execution_count": 16,
     "metadata": {},
     "output_type": "execute_result"
    }
   ],
   "source": [
    "torch.multinomial(torch.rand(4, 4), 3)"
   ]
  },
  {
   "cell_type": "code",
   "execution_count": 17,
   "metadata": {},
   "outputs": [],
   "source": [
    "x = torch.rand(4, 4)"
   ]
  },
  {
   "cell_type": "code",
   "execution_count": 18,
   "metadata": {},
   "outputs": [
    {
     "data": {
      "text/plain": [
       "tensor([[0.5757, 0.2785, 0.1946, 0.5382],\n",
       "        [0.1291, 0.1242, 0.1746, 0.3302],\n",
       "        [0.5370, 0.8443, 0.6937, 0.8831],\n",
       "        [0.1861, 0.5422, 0.0556, 0.7868]])"
      ]
     },
     "execution_count": 18,
     "metadata": {},
     "output_type": "execute_result"
    }
   ],
   "source": [
    "x"
   ]
  },
  {
   "cell_type": "code",
   "execution_count": 19,
   "metadata": {},
   "outputs": [
    {
     "data": {
      "text/plain": [
       "tensor([[3, 0, 1],\n",
       "        [3, 2, 1],\n",
       "        [3, 1, 0],\n",
       "        [2, 3, 1]])"
      ]
     },
     "execution_count": 19,
     "metadata": {},
     "output_type": "execute_result"
    }
   ],
   "source": [
    "torch.multinomial(x, 3)"
   ]
  },
  {
   "cell_type": "code",
   "execution_count": 26,
   "metadata": {},
   "outputs": [
    {
     "data": {
      "text/plain": [
       "tensor([[1, 3, 3, 1, 3],\n",
       "        [3, 2, 0, 3, 1],\n",
       "        [0, 3, 1, 3, 1],\n",
       "        [3, 1, 3, 1, 3]])"
      ]
     },
     "execution_count": 26,
     "metadata": {},
     "output_type": "execute_result"
    }
   ],
   "source": [
    "torch.multinomial(x, 5, replacement=True)"
   ]
  },
  {
   "cell_type": "code",
   "execution_count": 33,
   "metadata": {},
   "outputs": [
    {
     "data": {
      "text/plain": [
       "tensor([ 0.,  1.,  2.,  3.,  4.,  5.,  6.,  7.,  8.,  9., 10., 11., 12., 13.,\n",
       "        14., 15., 16., 17., 18., 19.])"
      ]
     },
     "execution_count": 33,
     "metadata": {},
     "output_type": "execute_result"
    }
   ],
   "source": [
    "x = torch.tensor([ 0.,  1.,  2.,  3.,  4.,  5.,  6.,  7.,  8.,  9., 10., 11., 12., 13., 14., 15., 16., 17.,\n",
    "        18., 19.])\n",
    "x"
   ]
  },
  {
   "cell_type": "code",
   "execution_count": 35,
   "metadata": {},
   "outputs": [
    {
     "data": {
      "text/plain": [
       "tensor([13, 13, 14, 13, 19, 19, 13, 12, 13, 10, 13, 16])"
      ]
     },
     "execution_count": 35,
     "metadata": {},
     "output_type": "execute_result"
    }
   ],
   "source": [
    "torch.multinomial(x, 12, replacement=True)"
   ]
  },
  {
   "cell_type": "markdown",
   "metadata": {},
   "source": [
    "torch.normal(mean=tensor_mean, std=tensor_std):从均值向量和方差向量中生成正态分布"
   ]
  },
  {
   "cell_type": "code",
   "execution_count": 40,
   "metadata": {},
   "outputs": [
    {
     "data": {
      "text/plain": [
       "tensor([1.8049, 1.7203, 2.2634, 3.8945, 4.5814, 6.7613, 7.9723, 8.4709, 8.9869,\n",
       "        9.9572])"
      ]
     },
     "execution_count": 40,
     "metadata": {},
     "output_type": "execute_result"
    }
   ],
   "source": [
    "torch.normal(mean=torch.arange(1., 11.), std=torch.arange(1, 0, -0.1))"
   ]
  },
  {
   "cell_type": "code",
   "execution_count": 41,
   "metadata": {},
   "outputs": [
    {
     "data": {
      "text/plain": [
       "tensor([ 0.7537,  1.9675,  3.9164,  2.7065, -2.5934])"
      ]
     },
     "execution_count": 41,
     "metadata": {},
     "output_type": "execute_result"
    }
   ],
   "source": [
    "torch.normal(mean=0.5, std=torch.arange(1., 6.))"
   ]
  },
  {
   "cell_type": "markdown",
   "metadata": {},
   "source": [
    "Pytorch中变量是计算图中的节点，保存了变量的值和梯度。因为要计算变量的梯度，计算图中的任务的顺序序列就显得非常重要.\n",
    "torch中变量创建Variable(tensor_x, requires_grad=True), 参数为True表示需要对变量求导，变量节点将会保存梯度"
   ]
  },
  {
   "cell_type": "code",
   "execution_count": 42,
   "metadata": {},
   "outputs": [],
   "source": [
    "from torch.autograd import Variable"
   ]
  },
  {
   "cell_type": "code",
   "execution_count": 43,
   "metadata": {},
   "outputs": [
    {
     "data": {
      "text/plain": [
       "tensor([[1., 1.],\n",
       "        [1., 1.]], requires_grad=True)"
      ]
     },
     "execution_count": 43,
     "metadata": {},
     "output_type": "execute_result"
    }
   ],
   "source": [
    "Variable(torch.ones(2, 2), requires_grad=True)"
   ]
  },
  {
   "cell_type": "code",
   "execution_count": 44,
   "metadata": {},
   "outputs": [],
   "source": [
    "a, b = 12, 23\n",
    "x1 = Variable(torch.randn(a, b), requires_grad=True)\n",
    "x2 = Variable(torch.randn(a, b), requires_grad=True)\n",
    "x3 = Variable(torch.randn(a, b), requires_grad=True)"
   ]
  },
  {
   "cell_type": "code",
   "execution_count": 46,
   "metadata": {},
   "outputs": [
    {
     "name": "stdout",
     "output_type": "stream",
     "text": [
      "tensor(3312.6350, grad_fn=<SumBackward0>)\n"
     ]
    }
   ],
   "source": [
    "c = x1 * x2\n",
    "d = a + x3\n",
    "e = torch.sum(d)\n",
    "e.backward()\n",
    "print(e)"
   ]
  },
  {
   "cell_type": "code",
   "execution_count": 47,
   "metadata": {},
   "outputs": [
    {
     "data": {
      "text/plain": [
       "tensor([[-0.2115, -0.2708, -0.0830, -0.2453, -0.9124, -1.4065,  0.3187,  0.8451,\n",
       "          0.0040,  0.3480,  1.7276, -2.5230,  0.2561,  1.0097, -0.4543,  0.7966,\n",
       "          1.4440, -1.5852, -0.4536,  0.2158, -0.4391, -0.2247, -1.4327],\n",
       "        [ 0.2142,  1.1908, -1.8039,  0.4719,  0.0814, -1.2219, -0.4522, -0.6456,\n",
       "         -0.4094,  0.8423, -2.4813,  0.1389,  2.2357,  1.5243,  0.1121,  1.0119,\n",
       "         -0.4792, -0.0425,  0.3271, -0.4837, -1.0132,  1.3344, -0.3179],\n",
       "        [ 0.4384,  0.5438, -0.7368,  0.2564,  0.1585,  0.1202,  0.4888, -0.0180,\n",
       "          0.8637,  0.2074,  0.4073,  0.0080,  0.1839, -0.1475,  0.0373,  0.7058,\n",
       "          0.2657, -1.7271, -1.8981, -1.2470, -0.7558, -0.1980, -0.4630],\n",
       "        [-1.5418, -1.1920, -0.1908, -0.2911, -0.1204, -0.0221, -0.9555,  1.1367,\n",
       "         -0.3091, -0.0160, -0.7645, -0.5497,  0.4804, -0.4132, -0.8006, -2.0753,\n",
       "          0.7684, -0.7082,  0.7290, -0.3591,  0.0168, -0.1568,  1.3547],\n",
       "        [ 0.5045, -3.2272,  1.3297,  0.6955,  0.5150, -0.8365,  0.1818,  0.6946,\n",
       "          0.6981, -1.6233, -1.2311,  0.1806, -1.1161, -0.4419, -0.7667, -0.6089,\n",
       "         -0.0257,  1.7189, -0.1150,  0.7086, -2.4787, -1.4670, -0.7390],\n",
       "        [ 1.3616, -1.5158, -1.5591, -1.6295, -2.5121, -0.3348, -0.0221, -0.7306,\n",
       "          0.3304, -2.9662,  0.0368,  0.2470, -0.4590,  0.3903,  0.6156,  0.2176,\n",
       "          0.8307, -1.8079,  1.2734,  1.4994,  1.2613,  2.3607, -1.2976],\n",
       "        [ 0.2214,  2.4321, -0.0143,  1.0815, -0.4501, -0.0258,  0.5277, -1.2050,\n",
       "         -0.1284, -1.9020,  1.3042,  0.4059, -0.5511,  1.3457, -1.5772,  1.3489,\n",
       "          0.1229,  1.3210,  0.2676, -0.4923,  0.1526,  0.3563,  0.2338],\n",
       "        [-1.3824, -0.1675, -1.6580, -0.0687,  0.0851, -0.4406,  0.7611,  0.4613,\n",
       "          0.4775, -0.1064,  1.0364, -0.4213, -1.1454, -1.3751, -0.1858, -0.0928,\n",
       "         -0.4452,  1.3692, -0.4287,  2.5010,  1.7754,  0.2010,  1.4041],\n",
       "        [-0.6549,  0.1063,  0.2780,  1.2662,  1.2850, -2.2839,  1.5706,  1.0996,\n",
       "         -0.6320,  1.0732,  0.7805, -1.0467,  1.1242,  0.1641, -0.2805,  0.1652,\n",
       "          0.8605, -1.5856,  1.3881,  1.0962, -0.0653, -0.2464, -0.6138],\n",
       "        [-0.3650,  0.8311, -0.3855,  1.3038, -1.2379, -0.8284, -0.5619,  0.1099,\n",
       "          0.7042, -0.5706, -0.6150,  1.0458, -0.6945,  0.3995, -2.0058, -0.5461,\n",
       "          0.9212,  0.3456, -0.9570, -0.5037,  0.9634, -0.3377, -0.9323],\n",
       "        [-1.0554, -1.4777, -0.8352,  2.0066, -0.1929,  0.2225,  0.8351,  0.2819,\n",
       "          0.1209, -0.9541,  0.4350, -0.9298,  0.2726,  0.1179, -2.0799,  1.7664,\n",
       "          1.1571, -0.6277, -1.1445, -0.0321,  1.9643, -0.8976, -0.5138],\n",
       "        [-0.2255,  0.0602, -0.6036,  0.2361, -0.8028,  0.1063, -0.4730,  1.3919,\n",
       "         -0.1341,  1.2134, -0.9287,  0.2344, -1.9974, -1.3085, -0.0303,  0.4912,\n",
       "         -0.5457,  0.5678, -0.6838,  0.5660, -1.1568, -0.9462, -0.8255]],\n",
       "       requires_grad=True)"
      ]
     },
     "execution_count": 47,
     "metadata": {},
     "output_type": "execute_result"
    }
   ],
   "source": [
    "x1"
   ]
  },
  {
   "cell_type": "code",
   "execution_count": 48,
   "metadata": {},
   "outputs": [
    {
     "data": {
      "text/plain": [
       "tensor([[11.5699, 12.9339, 11.5278, 12.8510, 12.1990, 12.7787, 11.3002, 12.0387,\n",
       "         10.1687, 11.9483, 11.9655, 11.3536, 11.6419, 11.5160, 11.7287, 11.9226,\n",
       "         12.5229, 12.1553, 12.5247, 11.5083, 12.5103, 11.2270, 11.6588],\n",
       "        [13.4254, 11.9305, 11.8371, 10.6163, 12.6189,  8.9515, 10.9550, 12.8434,\n",
       "         13.8587,  8.0701, 12.3435, 10.8833, 11.2296, 12.1609, 11.2756, 12.0543,\n",
       "         11.0335, 12.6363, 11.9305, 11.1918, 11.9934, 11.6410, 12.3171],\n",
       "        [11.1471, 10.5291, 11.6269, 12.2299, 13.6853, 11.6928, 11.9113, 12.1228,\n",
       "         12.8227, 10.8557, 10.9068, 12.5156, 13.0474, 12.4452, 13.5324, 12.0284,\n",
       "         11.0375, 11.6038, 10.9388, 13.3935, 11.4406, 11.6117, 11.6650],\n",
       "        [11.1499, 10.1822, 12.7297, 13.2289, 11.1263, 12.6285, 12.7906, 11.5853,\n",
       "         14.0388, 11.9810, 11.3063, 12.4173, 13.0526, 11.5843, 11.9984, 11.4970,\n",
       "         12.7011, 13.8257, 12.0427, 11.6913, 13.4557, 11.4317, 12.9882],\n",
       "        [13.5823, 10.8341, 12.1383, 11.0199, 13.0355, 12.3215, 11.7133, 14.0399,\n",
       "         12.0013, 11.2826, 11.6254, 12.0315, 10.9685, 11.1249, 10.2885, 12.5672,\n",
       "         11.3567, 10.2887, 11.4999, 11.2449, 12.5344,  9.7779, 11.5670],\n",
       "        [12.9634, 13.2769, 13.0020, 12.1585, 12.4066, 13.5587, 11.8121, 13.2295,\n",
       "         11.4869, 11.7439, 12.2039,  9.8746, 12.8888, 12.8393, 11.9170, 11.7441,\n",
       "         11.6990, 12.2726, 13.5576, 11.5916, 12.1136, 10.7582, 12.3974],\n",
       "        [14.4015, 12.2818, 11.5713, 12.9427, 13.1394, 13.0076, 10.9307, 12.4660,\n",
       "         12.7012, 10.2017, 11.6974, 11.6272, 13.7021, 11.8247,  9.9584, 11.7251,\n",
       "         13.5302, 11.5452, 11.3491, 12.8589, 11.3021, 12.1460, 13.2517],\n",
       "        [10.7085, 12.2319, 12.2899, 12.9981, 10.5971, 11.6807, 10.5480, 11.2990,\n",
       "         11.0510, 12.6888, 11.1259, 12.5316, 10.0917, 12.4046, 12.8264, 12.2326,\n",
       "         11.7000, 11.6165, 11.6311, 13.2539, 11.9646, 12.3525, 10.7268],\n",
       "        [11.5677, 13.3087, 11.4740,  9.3910, 12.4160, 11.5923, 12.6508, 13.4137,\n",
       "         12.5600, 13.7931, 12.0619, 11.0842, 13.6036, 11.5882, 12.9565, 13.1037,\n",
       "         10.8708, 12.4510, 12.5474, 13.6674, 12.3959, 14.7196, 12.4816],\n",
       "        [12.2409, 11.7999,  9.9055, 11.3073, 11.7125, 13.1033, 10.1229, 12.3250,\n",
       "         10.2716, 10.9599, 10.3418, 10.8490, 12.1113, 12.8810, 12.4492, 11.5077,\n",
       "         11.7689, 12.5383, 12.5548, 12.1676, 12.8115, 12.1469, 11.6209],\n",
       "        [10.8751, 11.8262, 12.9255, 12.0310, 12.4340, 11.1403, 13.4686, 13.9944,\n",
       "         11.8870, 13.5312, 11.6943, 11.3868, 12.5542, 14.4321, 11.7803, 12.4035,\n",
       "         10.6900, 12.0123, 10.9753, 11.8562, 11.7127, 10.7443, 11.9954],\n",
       "        [13.0525, 12.9524, 11.2777, 13.8993, 11.7378, 12.7237, 10.4270, 13.3937,\n",
       "         11.2687, 12.2600, 12.6740, 12.1659, 12.1778, 10.5360, 12.9680, 13.4266,\n",
       "         10.7641, 12.2372, 11.4417, 12.9130, 11.9491, 11.2739, 12.9392]],\n",
       "       grad_fn=<AddBackward0>)"
      ]
     },
     "execution_count": 48,
     "metadata": {},
     "output_type": "execute_result"
    }
   ],
   "source": [
    "d"
   ]
  },
  {
   "cell_type": "markdown",
   "metadata": {},
   "source": [
    "torch.mean(tensor_x, dim=n):按照第n维计算tensor x的均值\n",
    "torch.median(tensor_x, dim=n):按照第n维计算tensor x的中位数\n",
    "torch.mode(tensor_x):计算众数\n",
    "torch.std(tensor_x):计算tensor x的标准差\n",
    "torch.var(tensor_x):计算方差"
   ]
  },
  {
   "cell_type": "code",
   "execution_count": 52,
   "metadata": {},
   "outputs": [
    {
     "data": {
      "text/plain": [
       "tensor([0.0000, 0.5000, 1.0000, 1.5000, 2.0000, 2.5000, 3.0000, 3.5000, 4.0000,\n",
       "        4.5000, 5.0000, 5.5000, 6.0000, 6.5000, 7.0000, 7.5000, 8.0000, 8.5000,\n",
       "        9.0000, 9.5000])"
      ]
     },
     "execution_count": 52,
     "metadata": {},
     "output_type": "execute_result"
    }
   ],
   "source": [
    "x = torch.arange(0, 10, .5)\n",
    "x"
   ]
  },
  {
   "cell_type": "code",
   "execution_count": 53,
   "metadata": {},
   "outputs": [
    {
     "data": {
      "text/plain": [
       "tensor(4.7500)"
      ]
     },
     "execution_count": 53,
     "metadata": {},
     "output_type": "execute_result"
    }
   ],
   "source": [
    "torch.mean(x)"
   ]
  },
  {
   "cell_type": "code",
   "execution_count": 54,
   "metadata": {},
   "outputs": [
    {
     "data": {
      "text/plain": [
       "tensor([[ 0.6701, -1.4694,  0.9754, -0.5541, -1.6590],\n",
       "        [-1.1974, -1.4447,  0.1833, -0.5690,  0.0999],\n",
       "        [-0.1914,  0.7106,  0.7853, -2.1468, -1.8539],\n",
       "        [-0.2284,  0.6631,  0.4335, -2.0939,  0.7917]])"
      ]
     },
     "execution_count": 54,
     "metadata": {},
     "output_type": "execute_result"
    }
   ],
   "source": [
    "x = torch.randn(4, 5)\n",
    "x"
   ]
  },
  {
   "cell_type": "code",
   "execution_count": 55,
   "metadata": {},
   "outputs": [
    {
     "data": {
      "text/plain": [
       "tensor(-0.4047)"
      ]
     },
     "execution_count": 55,
     "metadata": {},
     "output_type": "execute_result"
    }
   ],
   "source": [
    "torch.mean(x)"
   ]
  },
  {
   "cell_type": "code",
   "execution_count": 56,
   "metadata": {},
   "outputs": [
    {
     "data": {
      "text/plain": [
       "tensor([-0.2368, -0.3851,  0.5944, -1.3409, -0.6553])"
      ]
     },
     "execution_count": 56,
     "metadata": {},
     "output_type": "execute_result"
    }
   ],
   "source": [
    "torch.mean(x, dim=0)"
   ]
  },
  {
   "cell_type": "code",
   "execution_count": 57,
   "metadata": {},
   "outputs": [
    {
     "data": {
      "text/plain": [
       "tensor([-0.4074, -0.5856, -0.5392, -0.0868])"
      ]
     },
     "execution_count": 57,
     "metadata": {},
     "output_type": "execute_result"
    }
   ],
   "source": [
    "torch.mean(x, dim=1)"
   ]
  },
  {
   "cell_type": "code",
   "execution_count": 58,
   "metadata": {},
   "outputs": [
    {
     "data": {
      "text/plain": [
       "torch.return_types.median(\n",
       "values=tensor([-0.2284, -1.4447,  0.4335, -2.0939, -1.6590]),\n",
       "indices=tensor([3, 1, 3, 3, 0]))"
      ]
     },
     "execution_count": 58,
     "metadata": {},
     "output_type": "execute_result"
    }
   ],
   "source": [
    "torch.median(x, dim=0)"
   ]
  },
  {
   "cell_type": "code",
   "execution_count": 59,
   "metadata": {},
   "outputs": [
    {
     "data": {
      "text/plain": [
       "torch.return_types.median(\n",
       "values=tensor([-0.5541, -0.5690, -0.1914,  0.4335]),\n",
       "indices=tensor([3, 3, 0, 2]))"
      ]
     },
     "execution_count": 59,
     "metadata": {},
     "output_type": "execute_result"
    }
   ],
   "source": [
    "torch.median(x, dim=1)"
   ]
  },
  {
   "cell_type": "code",
   "execution_count": 60,
   "metadata": {},
   "outputs": [
    {
     "data": {
      "text/plain": [
       "torch.return_types.mode(\n",
       "values=tensor([-1.6590, -1.4447, -2.1468, -2.0939]),\n",
       "indices=tensor([4, 1, 3, 3]))"
      ]
     },
     "execution_count": 60,
     "metadata": {},
     "output_type": "execute_result"
    }
   ],
   "source": [
    "torch.mode(x)"
   ]
  },
  {
   "cell_type": "code",
   "execution_count": 61,
   "metadata": {},
   "outputs": [
    {
     "data": {
      "text/plain": [
       "tensor(1.0791)"
      ]
     },
     "execution_count": 61,
     "metadata": {},
     "output_type": "execute_result"
    }
   ],
   "source": [
    "torch.std(x)"
   ]
  },
  {
   "cell_type": "code",
   "execution_count": 62,
   "metadata": {},
   "outputs": [
    {
     "data": {
      "text/plain": [
       "tensor([1.2030, 0.7372, 1.3919, 1.1888])"
      ]
     },
     "execution_count": 62,
     "metadata": {},
     "output_type": "execute_result"
    }
   ],
   "source": [
    "torch.std(x, dim=1)"
   ]
  },
  {
   "cell_type": "code",
   "execution_count": 63,
   "metadata": {},
   "outputs": [
    {
     "data": {
      "text/plain": [
       "tensor(1.1645)"
      ]
     },
     "execution_count": 63,
     "metadata": {},
     "output_type": "execute_result"
    }
   ],
   "source": [
    "torch.var(x)"
   ]
  },
  {
   "cell_type": "code",
   "execution_count": 65,
   "metadata": {},
   "outputs": [
    {
     "name": "stdout",
     "output_type": "stream",
     "text": [
      "predict (before training) 4 tensor(4.)\n"
     ]
    }
   ],
   "source": [
    "def forward(x):\n",
    "    return x * w\n",
    "x = [11.0, 22.0, 33.0]\n",
    "y = [21.0, 14.0, 64.0]\n",
    "w = Variable(torch.Tensor([1.0]), requires_grad=True)\n",
    "print('predict (before training)', 4, forward(4).data[0])"
   ]
  },
  {
   "cell_type": "code",
   "execution_count": 66,
   "metadata": {},
   "outputs": [],
   "source": [
    "def loss(x, y):\n",
    "    y_pred = forward(x)\n",
    "    return (y_pred - y) * (y_pred - y)"
   ]
  },
  {
   "cell_type": "code",
   "execution_count": 68,
   "metadata": {},
   "outputs": [
    {
     "name": "stdout",
     "output_type": "stream",
     "text": [
      "\tgrad:  11.0 21.0 tensor(-5.6076e+26)\n",
      "\tgrad:  22.0 14.0 tensor(3.1851e+27)\n",
      "\tgrad:  33.0 64.0 tensor(-6.2205e+28)\n",
      "progress:  0 tensor(inf)\n",
      "\tgrad:  11.0 21.0 tensor(1.4362e+29)\n",
      "\tgrad:  22.0 14.0 tensor(-8.1578e+29)\n",
      "\tgrad:  33.0 64.0 tensor(1.5932e+31)\n",
      "progress:  1 tensor(inf)\n",
      "\tgrad:  11.0 21.0 tensor(-3.6786e+31)\n",
      "\tgrad:  22.0 14.0 tensor(2.0894e+32)\n",
      "\tgrad:  33.0 64.0 tensor(-4.0807e+33)\n",
      "progress:  2 tensor(inf)\n",
      "\tgrad:  11.0 21.0 tensor(9.4218e+33)\n",
      "\tgrad:  22.0 14.0 tensor(-5.3516e+34)\n",
      "\tgrad:  33.0 64.0 tensor(1.0452e+36)\n",
      "progress:  3 tensor(inf)\n",
      "\tgrad:  11.0 21.0 tensor(-2.4132e+36)\n",
      "\tgrad:  22.0 14.0 tensor(1.3707e+37)\n",
      "\tgrad:  33.0 64.0 tensor(-2.6769e+38)\n",
      "progress:  4 tensor(inf)\n",
      "\tgrad:  11.0 21.0 tensor(inf)\n",
      "\tgrad:  22.0 14.0 tensor(-inf)\n",
      "\tgrad:  33.0 64.0 tensor(nan)\n",
      "progress:  5 tensor(nan)\n",
      "\tgrad:  11.0 21.0 tensor(nan)\n",
      "\tgrad:  22.0 14.0 tensor(nan)\n",
      "\tgrad:  33.0 64.0 tensor(nan)\n",
      "progress:  6 tensor(nan)\n",
      "\tgrad:  11.0 21.0 tensor(nan)\n",
      "\tgrad:  22.0 14.0 tensor(nan)\n",
      "\tgrad:  33.0 64.0 tensor(nan)\n",
      "progress:  7 tensor(nan)\n",
      "\tgrad:  11.0 21.0 tensor(nan)\n",
      "\tgrad:  22.0 14.0 tensor(nan)\n",
      "\tgrad:  33.0 64.0 tensor(nan)\n",
      "progress:  8 tensor(nan)\n",
      "\tgrad:  11.0 21.0 tensor(nan)\n",
      "\tgrad:  22.0 14.0 tensor(nan)\n",
      "\tgrad:  33.0 64.0 tensor(nan)\n",
      "progress:  9 tensor(nan)\n"
     ]
    }
   ],
   "source": [
    "for epoch in range(10):\n",
    "    for x_val, y_val in zip(x, y):\n",
    "        l = loss(x_val, y_val)\n",
    "        l.backward()\n",
    "        print('\\tgrad: ', x_val, y_val, w.grad.data[0])\n",
    "        w.data = w.data - 0.01 * w.grad.data\n",
    "        w.grad.data.zero_()\n",
    "    print('progress: ', epoch, l.data[0])"
   ]
  },
  {
   "cell_type": "code",
   "execution_count": 69,
   "metadata": {},
   "outputs": [
    {
     "name": "stdout",
     "output_type": "stream",
     "text": [
      "predict (after training) 4 tensor(nan)\n"
     ]
    }
   ],
   "source": [
    "print('predict (after training)', 4, forward(4).data[0])"
   ]
  },
  {
   "cell_type": "code",
   "execution_count": 71,
   "metadata": {},
   "outputs": [
    {
     "name": "stdout",
     "output_type": "stream",
     "text": [
      "torch.Size([4, 4])\n"
     ]
    }
   ],
   "source": [
    "x = Variable(torch.Tensor(4, 4).uniform_(-4, 5))\n",
    "y = Variable(torch.Tensor(4, 4).uniform_(-3, 2))\n",
    "z = torch.mm(x, y)  # 矩阵乘法\n",
    "print(z.size())"
   ]
  },
  {
   "cell_type": "code",
   "execution_count": 72,
   "metadata": {},
   "outputs": [
    {
     "data": {
      "text/plain": [
       "tensor([[  2.6788,   6.4665,   4.1274,  -0.7778],\n",
       "        [ -0.6327,   0.4286,  -4.5341,   2.4343],\n",
       "        [-13.5663,  -9.1436,   4.3970, -12.1938],\n",
       "        [-13.6189, -12.8680,  -3.9475,  -2.6551]])"
      ]
     },
     "execution_count": 72,
     "metadata": {},
     "output_type": "execute_result"
    }
   ],
   "source": [
    "z"
   ]
  },
  {
   "cell_type": "code",
   "execution_count": 73,
   "metadata": {},
   "outputs": [
    {
     "data": {
      "text/plain": [
       "tensor([[ 3.2520, -0.5175,  2.7710, -2.6488],\n",
       "        [-2.6487, -0.9322,  0.8197, -0.8734],\n",
       "        [ 3.5343,  2.1066,  1.9073,  3.3834],\n",
       "        [-3.5153,  2.6797, -2.0053,  4.5047]])"
      ]
     },
     "execution_count": 73,
     "metadata": {},
     "output_type": "execute_result"
    }
   ],
   "source": [
    "x"
   ]
  },
  {
   "cell_type": "markdown",
   "metadata": {},
   "source": [
    "这节主要学习了一些pytorch中随机变量的操作，如采样、计算方差、均值等统计量，同时学习了怎么创建变量和自动求导（梯度）"
   ]
  }
 ],
 "metadata": {
  "kernelspec": {
   "display_name": "Python 3",
   "language": "python",
   "name": "python3"
  },
  "language_info": {
   "codemirror_mode": {
    "name": "ipython",
    "version": 3
   },
   "file_extension": ".py",
   "mimetype": "text/x-python",
   "name": "python",
   "nbconvert_exporter": "python",
   "pygments_lexer": "ipython3",
   "version": "3.7.7"
  }
 },
 "nbformat": 4,
 "nbformat_minor": 4
}
